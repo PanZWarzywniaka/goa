{
 "cells": [
  {
   "cell_type": "markdown",
   "metadata": {},
   "source": [
    "# Resolutions"
   ]
  },
  {
   "cell_type": "code",
   "execution_count": 2,
   "metadata": {},
   "outputs": [],
   "source": [
    "def aspect_ratio(size):\n",
    "    w,h = size\n",
    "    return h/w"
   ]
  },
  {
   "cell_type": "code",
   "execution_count": 6,
   "metadata": {},
   "outputs": [],
   "source": [
    "def resolution(size, dpi):\n",
    "    w, h = size\n",
    "    return (w*dpi, h*dpi)"
   ]
  },
  {
   "cell_type": "code",
   "execution_count": 3,
   "metadata": {},
   "outputs": [],
   "source": [
    "A1 = 23.4, 33.1 #in inches\n",
    "US_BIG = 24, 36\n",
    "\n",
    "DPI = 300\n"
   ]
  },
  {
   "cell_type": "code",
   "execution_count": 7,
   "metadata": {},
   "outputs": [
    {
     "name": "stdout",
     "output_type": "stream",
     "text": [
      "1.4145299145299146\n",
      "1.5\n"
     ]
    }
   ],
   "source": [
    "print(aspect_ratio(A1))\n",
    "print(aspect_ratio(US_BIG))"
   ]
  },
  {
   "cell_type": "code",
   "execution_count": 10,
   "metadata": {},
   "outputs": [
    {
     "name": "stdout",
     "output_type": "stream",
     "text": [
      "(7200, 10800)\n"
     ]
    }
   ],
   "source": [
    "print(resolution(US_BIG, DPI))"
   ]
  },
  {
   "cell_type": "code",
   "execution_count": null,
   "metadata": {},
   "outputs": [],
   "source": []
  },
  {
   "cell_type": "markdown",
   "metadata": {},
   "source": [
    "# Image gen"
   ]
  },
  {
   "cell_type": "code",
   "execution_count": 32,
   "metadata": {},
   "outputs": [],
   "source": [
    "import openai\n",
    "import base64\n",
    "from multiprocessing import Pool"
   ]
  },
  {
   "cell_type": "code",
   "execution_count": 11,
   "metadata": {},
   "outputs": [],
   "source": [
    "def generate_images(text_prompt, n=4, format=\"url\"):\n",
    "    try:\n",
    "        response = openai.Image.create(\n",
    "            prompt=text_prompt,\n",
    "            n=n,\n",
    "            size=\"1024x1024\",\n",
    "            response_format=format,\n",
    "        )\n",
    "    except openai.error.OpenAIError as e:\n",
    "        print(e.http_status)\n",
    "        print(e.error)\n",
    "        print(e)\n",
    "\n",
    "    return response"
   ]
  },
  {
   "cell_type": "code",
   "execution_count": 29,
   "metadata": {},
   "outputs": [],
   "source": [
    "x = generate_images(\"Soviet propaganda posters, space race\", n=4, format=\"b64_json\")\n"
   ]
  },
  {
   "cell_type": "code",
   "execution_count": 34,
   "metadata": {},
   "outputs": [
    {
     "data": {
      "text/plain": [
       "openai.openai_object.OpenAIObject"
      ]
     },
     "execution_count": 34,
     "metadata": {},
     "output_type": "execute_result"
    }
   ],
   "source": [
    "len(x[\"data\"])\n",
    "type(x[\"data\"][0])"
   ]
  },
  {
   "cell_type": "code",
   "execution_count": null,
   "metadata": {},
   "outputs": [],
   "source": [
    "def save_image(image_data, image_name):\n",
    "    b64_bytes = image_data['b64_json']\n",
    "    with open(\"gdrive_images/test.png\", \"wb\") as f:\n",
    "        f.write(base64.b64decode(b64_bytes))"
   ]
  },
  {
   "cell_type": "code",
   "execution_count": null,
   "metadata": {},
   "outputs": [],
   "source": [
    "images = x[\"data\"]\n",
    "with Pool(processes=len(images)) as pool:\n",
    "\n",
    "    results = pool.imap_unordered(save_image, images)\n",
    "\n",
    "    for file_name, duration in results:\n",
    "        print(f\"{file_name} completed in {duration:.2f}s\")"
   ]
  },
  {
   "cell_type": "code",
   "execution_count": 22,
   "metadata": {},
   "outputs": [
    {
     "data": {
      "text/plain": [
       "str"
      ]
     },
     "execution_count": 22,
     "metadata": {},
     "output_type": "execute_result"
    }
   ],
   "source": [
    "img_data = x[\"data\"][0]['b64_json']\n",
    "type(img_data)"
   ]
  },
  {
   "cell_type": "code",
   "execution_count": 27,
   "metadata": {},
   "outputs": [],
   "source": [
    "with open(\"gdrive_images/test.png\", \"wb\") as f:\n",
    "    f.write(base64.b64decode(img_data))"
   ]
  }
 ],
 "metadata": {
  "kernelspec": {
   "display_name": "Python 3.10.8 ('.venv': venv)",
   "language": "python",
   "name": "python3"
  },
  "language_info": {
   "codemirror_mode": {
    "name": "ipython",
    "version": 3
   },
   "file_extension": ".py",
   "mimetype": "text/x-python",
   "name": "python",
   "nbconvert_exporter": "python",
   "pygments_lexer": "ipython3",
   "version": "3.10.8"
  },
  "orig_nbformat": 4,
  "vscode": {
   "interpreter": {
    "hash": "3ba374d027a60c085b9db699b13757e9d53892bf135fc7c39a7b6b279c902790"
   }
  }
 },
 "nbformat": 4,
 "nbformat_minor": 2
}
