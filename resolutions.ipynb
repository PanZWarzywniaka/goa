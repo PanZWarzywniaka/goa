{
 "cells": [
  {
   "cell_type": "code",
   "execution_count": 2,
   "metadata": {},
   "outputs": [],
   "source": [
    "def aspect_ratio(size):\n",
    "    w,h = size\n",
    "    return h/w"
   ]
  },
  {
   "cell_type": "code",
   "execution_count": 6,
   "metadata": {},
   "outputs": [],
   "source": [
    "def resolution(size, dpi):\n",
    "    w, h = size\n",
    "    return (w*dpi, h*dpi)"
   ]
  },
  {
   "cell_type": "code",
   "execution_count": 3,
   "metadata": {},
   "outputs": [],
   "source": [
    "A1 = 23.4, 33.1 #in inches\n",
    "US_BIG = 24, 36\n",
    "\n",
    "DPI = 300\n"
   ]
  },
  {
   "cell_type": "code",
   "execution_count": 7,
   "metadata": {},
   "outputs": [
    {
     "name": "stdout",
     "output_type": "stream",
     "text": [
      "1.4145299145299146\n",
      "1.5\n"
     ]
    }
   ],
   "source": [
    "print(aspect_ratio(A1))\n",
    "print(aspect_ratio(US_BIG))"
   ]
  },
  {
   "cell_type": "code",
   "execution_count": 10,
   "metadata": {},
   "outputs": [
    {
     "name": "stdout",
     "output_type": "stream",
     "text": [
      "(7200, 10800)\n"
     ]
    }
   ],
   "source": [
    "print(resolution(US_BIG, DPI))"
   ]
  },
  {
   "cell_type": "code",
   "execution_count": null,
   "metadata": {},
   "outputs": [],
   "source": []
  }
 ],
 "metadata": {
  "kernelspec": {
   "display_name": "Python 3.10.8 ('.venv': venv)",
   "language": "python",
   "name": "python3"
  },
  "language_info": {
   "codemirror_mode": {
    "name": "ipython",
    "version": 3
   },
   "file_extension": ".py",
   "mimetype": "text/x-python",
   "name": "python",
   "nbconvert_exporter": "python",
   "pygments_lexer": "ipython3",
   "version": "3.10.8"
  },
  "orig_nbformat": 4,
  "vscode": {
   "interpreter": {
    "hash": "3ba374d027a60c085b9db699b13757e9d53892bf135fc7c39a7b6b279c902790"
   }
  }
 },
 "nbformat": 4,
 "nbformat_minor": 2
}
