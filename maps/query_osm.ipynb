{
 "cells": [
  {
   "cell_type": "code",
   "execution_count": 105,
   "metadata": {},
   "outputs": [],
   "source": [
    "from OSMPythonTools.overpass import overpassQueryBuilder, Overpass\n",
    "from OSMPythonTools.api import Api\n",
    "import numpy as np\n",
    "import asyncio\n",
    "from geopy import distance\n",
    "import drawsvg as draw\n",
    "import typing\n",
    "\n",
    "np.set_printoptions(suppress=True)"
   ]
  },
  {
   "cell_type": "markdown",
   "metadata": {},
   "source": [
    "### CONSTANTS"
   ]
  },
  {
   "cell_type": "code",
   "execution_count": 106,
   "metadata": {},
   "outputs": [],
   "source": [
    "\n",
    "LEFT, BOTTOM = 45.414580, 12.296868#50.050158, 19.931309#  kraków\n",
    "RIGHT, TOP = 45.448136, 12.368594#50.066532, 19.948461 #kraków\n",
    "\n",
    "ZOOM_LEVEL = 15\n",
    "\n",
    "overpass = Overpass()"
   ]
  },
  {
   "cell_type": "code",
   "execution_count": 107,
   "metadata": {},
   "outputs": [],
   "source": [
    "async def get_points_of_element(el):\n",
    "    coordinates = el.geometry()[\"coordinates\"]\n",
    "    points = np.array(coordinates[0])\n",
    "\n",
    "    return points"
   ]
  },
  {
   "cell_type": "code",
   "execution_count": 108,
   "metadata": {},
   "outputs": [],
   "source": [
    "async def get_points_of_element(el):\n",
    "    coordinates = el.geometry()[\"coordinates\"]\n",
    "    points = np.array(coordinates).reshape(-1, 2)\n",
    "\n",
    "    return points"
   ]
  },
  {
   "cell_type": "code",
   "execution_count": 109,
   "metadata": {},
   "outputs": [],
   "source": [
    "def draw_path(points, **options):\n",
    "    \n",
    "    points = points.flatten().tolist() #flatten to list of numbers [x1, y1, x2,y2...]\n",
    "    l = draw.Lines(*points, #unpack list to separate arguments\n",
    "                 **options)\n",
    "    return l"
   ]
  },
  {
   "cell_type": "code",
   "execution_count": 110,
   "metadata": {},
   "outputs": [],
   "source": [
    "def project_web_mercator(points): #numpy array of point degrees\n",
    "    # print(f\"In degrees {points = }\")\n",
    "    points = np.deg2rad(points)\n",
    "\n",
    "    lats = points[:, 1]\n",
    "    lons = points[:, 0]\n",
    "    # print(f\"In radians {lats = }\")\n",
    "    # print(f\"In radians {lons = }\")\n",
    "\n",
    "    projection_constant = np.divide(256, 2*np.pi) * np.exp2(ZOOM_LEVEL)\n",
    "   \n",
    "    xs = projection_constant * (lons + np.pi)\n",
    "\n",
    "\n",
    "    # print(f\"In radians {lats = }\")\n",
    "    ys = projection_constant * (np.pi - np.log(np.tan((np.pi/4) +  (lats/2))))\n",
    "\n",
    "\n",
    "    return np.column_stack((xs, ys))\n",
    "\n"
   ]
  },
  {
   "cell_type": "code",
   "execution_count": 111,
   "metadata": {},
   "outputs": [],
   "source": [
    "def get_center_projection(bbox):\n",
    "    left, bottom, right, top = bbox\n",
    "    center = (bottom+top)/2, (left+right)/2\n",
    "    center_point = np.array(center).reshape(1, 2)\n",
    "    return project_web_mercator(center_point)\n"
   ]
  },
  {
   "cell_type": "code",
   "execution_count": 112,
   "metadata": {},
   "outputs": [],
   "source": [
    "BBOX = [LEFT, BOTTOM, RIGHT, TOP]\n",
    "PROJECTED_CENTER = get_center_projection(BBOX)\n",
    "\n",
    "\n",
    "async def plot_ways(drawing, selector, **kwargs): #for each query\n",
    "    query = overpassQueryBuilder(bbox=BBOX, elementType=['way'], selector=selector)\n",
    "    elements = overpass.query(query).elements()\n",
    "    print(f\"Got {len(elements)} ways for this query.\")\n",
    "    #RETRIEVE POINTS\n",
    "    async with asyncio.TaskGroup() as tg:\n",
    "        tasks = [tg.create_task(get_points_of_element(el)) for el in elements]\n",
    "    \n",
    "    list_of_ways = [task.result() for task in tasks]\n",
    "\n",
    "    for way in list_of_ways:\n",
    "        road_projection = project_web_mercator(way)\n",
    "        sim_road = road_projection-PROJECTED_CENTER\n",
    "        drawing.append(draw_path(sim_road, **kwargs))\n",
    "\n",
    "\n"
   ]
  },
  {
   "cell_type": "code",
   "execution_count": null,
   "metadata": {},
   "outputs": [],
   "source": [
    "async def plot_ways(drawing, selector, **kwargs): #for each query\n",
    "    query = overpassQueryBuilder(bbox=BBOX, elementType=['way'], selector=selector)\n",
    "    elements = overpass.query(query).elements()\n",
    "    print(f\"Got {len(elements)} ways for this query.\")\n",
    "    #RETRIEVE POINTS\n",
    "    async with asyncio.TaskGroup() as tg:\n",
    "        tasks = [tg.create_task(get_points_of_element(el)) for el in elements]\n",
    "    \n",
    "    list_of_ways = [task.result() for task in tasks]\n",
    "\n",
    "    for way in list_of_ways:\n",
    "        road_projection = project_web_mercator(way)\n",
    "        sim_road = road_projection-PROJECTED_CENTER\n",
    "        drawing.append(draw_path(sim_road, **kwargs))\n"
   ]
  },
  {
   "cell_type": "markdown",
   "metadata": {},
   "source": [
    "### LINE OPTIONS"
   ]
  },
  {
   "cell_type": "code",
   "execution_count": 113,
   "metadata": {},
   "outputs": [],
   "source": [
    "\n",
    "black_line = {\n",
    "    \"fill\": \"none\",\n",
    "    \"stroke\": \"black\",\n",
    "    \"close\": False,\n",
    "}\n",
    "\n",
    "blue_area = {\n",
    "    \"fill\": \"blue\",\n",
    "    \"stroke\": \"none\",\n",
    "    \"close\": True,\n",
    "}\n",
    "green_line = {\n",
    "    \"fill\": \"none\",\n",
    "    \"stroke\": \"green\",\n",
    "    \"close\": False,\n",
    "}\n",
    "green_area = {\n",
    "    \"fill\": \"green\",\n",
    "    \"stroke\": \"none\",\n",
    "    \"close\": True\n",
    "}"
   ]
  },
  {
   "cell_type": "markdown",
   "metadata": {},
   "source": [
    "# MAIN"
   ]
  },
  {
   "cell_type": "markdown",
   "metadata": {},
   "source": [
    "### SELECTORS"
   ]
  },
  {
   "cell_type": "code",
   "execution_count": 114,
   "metadata": {},
   "outputs": [],
   "source": [
    "ROADS_SELECTOR = '\"highway\"~\"^(((motorway|trunk|primary|secondary|tertiary)(_link)?)|unclassified|residential|living_street|pedestrian|service|track)$\"'\n"
   ]
  },
  {
   "cell_type": "markdown",
   "metadata": {},
   "source": [
    "### DRAW"
   ]
  },
  {
   "cell_type": "code",
   "execution_count": 115,
   "metadata": {},
   "outputs": [
    {
     "name": "stdout",
     "output_type": "stream",
     "text": [
      "Got 5748 ways for this query.\n",
      "Got 177 ways for this query.\n",
      "Got 0 ways for this query.\n",
      "Got 45 ways for this query.\n"
     ]
    }
   ],
   "source": [
    "d = draw.Drawing(1000, 1000, origin='center')\n",
    "r = draw.Rectangle(-500, -500, 1000, 1000, fill=\"#f3de67\")\n",
    "d.append(r)\n",
    "\n",
    "\n",
    "BBOX = [LEFT, BOTTOM, RIGHT, TOP]\n",
    "\n",
    "\n",
    "await plot_ways(d, ROADS_SELECTOR, **black_line)\n",
    "await plot_ways(d, \"'natural'='water'\", **blue_area)\n",
    "await plot_ways(d, \"'landuse'='allotments'\", **green_line)\n",
    "await plot_ways(d, \"'leisure'='park'\", **green_area)"
   ]
  },
  {
   "cell_type": "markdown",
   "metadata": {},
   "source": [
    "### RENDER"
   ]
  },
  {
   "cell_type": "code",
   "execution_count": 116,
   "metadata": {},
   "outputs": [],
   "source": [
    "d.set_pixel_scale(1)\n",
    "d.save_png('example.png')\n",
    "d.save_svg('example.svg')"
   ]
  }
 ],
 "metadata": {
  "kernelspec": {
   "display_name": "Python 3.11.2 ('.venv': venv)",
   "language": "python",
   "name": "python3"
  },
  "language_info": {
   "codemirror_mode": {
    "name": "ipython",
    "version": 3
   },
   "file_extension": ".py",
   "mimetype": "text/x-python",
   "name": "python",
   "nbconvert_exporter": "python",
   "pygments_lexer": "ipython3",
   "version": "3.11.2"
  },
  "orig_nbformat": 4,
  "vscode": {
   "interpreter": {
    "hash": "cb9470eef0e1c9c4ca6105d0696fc4ce81c7a7790e43bb7d1c7b0006ecf49510"
   }
  }
 },
 "nbformat": 4,
 "nbformat_minor": 2
}
