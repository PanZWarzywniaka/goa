{
 "cells": [
  {
   "cell_type": "code",
   "execution_count": 117,
   "metadata": {},
   "outputs": [
    {
     "data": {
      "text/plain": [
       "True"
      ]
     },
     "execution_count": 117,
     "metadata": {},
     "output_type": "execute_result"
    }
   ],
   "source": [
    "import os, sys\n",
    "from PIL import Image\n",
    "import glob\n",
    "from dotenv import load_dotenv\n",
    "import numpy as np\n",
    "from matplotlib import pyplot as plt\n",
    "import openai\n",
    "import logging as log\n",
    "import time\n",
    "from io import BytesIO\n",
    "\n",
    "import json\n",
    "import base64\n",
    "\n",
    "load_dotenv()"
   ]
  },
  {
   "cell_type": "code",
   "execution_count": 118,
   "metadata": {},
   "outputs": [],
   "source": [
    "MAX_RES = 1024"
   ]
  },
  {
   "cell_type": "code",
   "execution_count": 121,
   "metadata": {},
   "outputs": [],
   "source": [
    "def create_alpha_padding_for_image(image, type):\n",
    "    w, h = image.size\n",
    "    match type:\n",
    "        case \"top\" | \"bottom\": #horizontal padding\n",
    "            size = (w, MAX_RES//2)\n",
    "        case \"left\" | \"right\": #vertical padding\n",
    "            size = (MAX_RES//2, h)\n",
    "    \n",
    "    padding = Image.new(mode=\"RGBA\", size=size, color=(0, 0, 0, 0))\n",
    "    return padding"
   ]
  },
  {
   "cell_type": "code",
   "execution_count": 122,
   "metadata": {},
   "outputs": [],
   "source": [
    "def merge_images(image1, image2, type=\"bottom\"):\n",
    "\n",
    "    w1, h1 = image1.size\n",
    "    w2, h2 = image2.size\n",
    "\n",
    "    match type:\n",
    "        case \"top\" | \"bottom\":\n",
    "            new_size = (max(w1, w2) , h1 + h2)\n",
    "        case \"left\" | \"right\":\n",
    "            new_size = (w1 + w2 , max(h1, h2))\n",
    "\n",
    "    merged = Image.new(\"RGBA\", new_size)\n",
    "\n",
    "    match type:\n",
    "        case \"top\":\n",
    "            merged.paste(image2)\n",
    "            merged.paste(image1, (0, h2))\n",
    "        case \"bottom\":\n",
    "            merged.paste(image1)\n",
    "            merged.paste(image2, (0, h1))\n",
    "        case \"right\":\n",
    "            merged.paste(image1)\n",
    "            merged.paste(image2, (w1, 0))\n",
    "        case \"left\":\n",
    "            merged.paste(image2)\n",
    "            merged.paste(image1, (w2, 0))\n",
    "    \n",
    "    return merged"
   ]
  },
  {
   "cell_type": "code",
   "execution_count": 123,
   "metadata": {},
   "outputs": [],
   "source": [
    "def add_padding(img_path, type=\"top\"):\n",
    "\n",
    "    img = Image.open(img_path)\n",
    "\n",
    "    padding = create_alpha_padding_for_image(img, type)\n",
    "    merged = merge_images(img, padding, type)\n",
    "    merged.save(f\"test.png\")\n"
   ]
  },
  {
   "cell_type": "code",
   "execution_count": 124,
   "metadata": {},
   "outputs": [],
   "source": [
    "def get_box_selection(image, left, top):\n",
    "    \n",
    "    box = (left, top, left+MAX_RES, top+MAX_RES)\n",
    "\n",
    "    #check if box is not out of image bounds\n",
    "    w, h = image.size\n",
    "\n",
    "    if box[2] > w:\n",
    "        box[2] = w\n",
    "\n",
    "    if box[3] > h:\n",
    "        box[3] = h\n",
    "\n",
    "    return box\n",
    "\n"
   ]
  },
  {
   "cell_type": "code",
   "execution_count": 125,
   "metadata": {},
   "outputs": [],
   "source": [
    "def parse_image(image_data):\n",
    "\n",
    "    image = Image.open(BytesIO(base64.b64decode(image_data)))\n",
    "    return image"
   ]
  },
  {
   "cell_type": "code",
   "execution_count": 126,
   "metadata": {},
   "outputs": [],
   "source": [
    "def image_to_byte_array(image):\n",
    "    byte_stream = BytesIO()\n",
    "    image.save(byte_stream, format='PNG')\n",
    "    byte_array = byte_stream.getvalue()\n",
    "    return byte_array"
   ]
  },
  {
   "cell_type": "code",
   "execution_count": 127,
   "metadata": {},
   "outputs": [],
   "source": [
    "def openai_edit_image(image, text_prompt, n=4, format=\"b64_json\"):\n",
    "\n",
    "    try:\n",
    "        log.info(\"Generating images...\")\n",
    "        start_t = time.perf_counter()\n",
    "\n",
    "        response = openai.Image.create_edit(\n",
    "            image=image,\n",
    "            prompt=text_prompt,\n",
    "            n=n,\n",
    "            size=\"1024x1024\",\n",
    "            response_format=format,\n",
    "        )\n",
    "\n",
    "        duration = time.perf_counter() - start_t\n",
    "        log.info(f\"Generating images took {duration:.2f}s\")\n",
    "\n",
    "        return response, \"Images generated successfully!\"\n",
    "\n",
    "    except openai.error.OpenAIError as e:\n",
    "        log.info(e.http_status)\n",
    "        log.info(e.error)\n",
    "        log.info(e)\n",
    "        return None, str(e)"
   ]
  },
  {
   "cell_type": "code",
   "execution_count": 128,
   "metadata": {},
   "outputs": [],
   "source": [
    "def modify_image(img_path, prompt, left, top):\n",
    "    img = Image.open(img_path)\n",
    "    box = get_box_selection(img, left, top)\n",
    "    crop = img.crop(box)\n",
    "    crop_bytes = image_to_byte_array(crop)\n",
    "    r, msg = openai_edit_image(crop_bytes, prompt, n=10)\n",
    "\n",
    "    print(msg)\n",
    "\n",
    "    for i, data in enumerate(r['data']):\n",
    "        variant = parse_image(data[\"b64_json\"])\n",
    "        img.paste(variant, box)\n",
    "        img.save(f\"{i+1}-{prompt}.png\")    "
   ]
  },
  {
   "cell_type": "code",
   "execution_count": 131,
   "metadata": {},
   "outputs": [
    {
     "name": "stdout",
     "output_type": "stream",
     "text": [
      "Images generated successfully!\n"
     ]
    }
   ],
   "source": [
    "img_path = to_extend[0]\n",
    "add_padding(img_path, \"bottom\")\n",
    "modify_image(\"test.png\", \"dalmatian dog\", 0, MAX_RES//2)"
   ]
  },
  {
   "cell_type": "code",
   "execution_count": null,
   "metadata": {},
   "outputs": [],
   "source": []
  }
 ],
 "metadata": {
  "kernelspec": {
   "display_name": "Python 3.10.8 64-bit",
   "language": "python",
   "name": "python3"
  },
  "language_info": {
   "codemirror_mode": {
    "name": "ipython",
    "version": 3
   },
   "file_extension": ".py",
   "mimetype": "text/x-python",
   "name": "python",
   "nbconvert_exporter": "python",
   "pygments_lexer": "ipython3",
   "version": "3.10.8"
  },
  "orig_nbformat": 4,
  "vscode": {
   "interpreter": {
    "hash": "e7370f93d1d0cde622a1f8e1c04877d8463912d04d973331ad4851f04de6915a"
   }
  }
 },
 "nbformat": 4,
 "nbformat_minor": 2
}
