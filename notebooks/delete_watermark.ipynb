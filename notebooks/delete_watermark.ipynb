{
 "cells": [
  {
   "cell_type": "code",
   "execution_count": 2,
   "metadata": {},
   "outputs": [
    {
     "data": {
      "text/plain": [
       "True"
      ]
     },
     "execution_count": 2,
     "metadata": {},
     "output_type": "execute_result"
    }
   ],
   "source": [
    "import os, sys\n",
    "from PIL import Image\n",
    "import glob\n",
    "import cv2 as cv\n",
    "from dotenv import load_dotenv\n",
    "import numpy as np\n",
    "from matplotlib import pyplot as plt\n",
    "\n",
    "load_dotenv()"
   ]
  },
  {
   "cell_type": "code",
   "execution_count": 3,
   "metadata": {},
   "outputs": [],
   "source": [
    "image_paths = glob.glob(f\"{os.getenv('SELECTED_IMG_MNT')}/*png\")\n",
    "WATER_MARK_COLOUR = (60, 70, 255, 255)"
   ]
  },
  {
   "cell_type": "code",
   "execution_count": 4,
   "metadata": {},
   "outputs": [],
   "source": [
    "def get_file_name(path: str):\n",
    "    return path.split(\"/\")[-1]"
   ]
  },
  {
   "cell_type": "code",
   "execution_count": 13,
   "metadata": {},
   "outputs": [
    {
     "name": "stdout",
     "output_type": "stream",
     "text": [
      "Saving to: mnt/images/3_no_watermark/a modernist poster showing a greek vase showing a pregnant woman playing with a faun.png\n",
      "Saving to: mnt/images/3_no_watermark/a modest poster of abstract floris shapes. use the style of medieval art. use soft colours.png\n",
      "Saving to: mnt/images/3_no_watermark/a poster of biological abstract shapes. mix the styles of Stanislaw Wyspiański and  USSR.png\n",
      "Saving to: mnt/images/3_no_watermark/a strip-shaped florist shapes. abstract-modern style. japanseese colours.png\n",
      "Saving to: mnt/images/3_no_watermark/balet dancer, Gustav klimt style.png\n",
      "Saving to: mnt/images/3_no_watermark/black and white squares, jackson pollock style.png\n",
      "Saving to: mnt/images/3_no_watermark/geometric shapes, pink orange and white, boho, wassily kandisky style.png\n",
      "Saving to: mnt/images/3_no_watermark/king henry VIII but his head is a cat, van eyck style.png\n",
      "Saving to: mnt/images/3_no_watermark/minimalist art deco poster based on white one-line bauhaus architecture motives, emerald green background.png\n",
      "Saving to: mnt/images/3_no_watermark/modernist sculpture style poster of pregnant Niobe.png\n",
      "Saving to: mnt/images/3_no_watermark/mountain summit, 2d simplified, in shades of orange.png\n",
      "Saving to: mnt/images/3_no_watermark/new york skyline in 1990, manet style.png\n",
      "Saving to: mnt/images/3_no_watermark/nighttime rainy times square, oil on canvas, monet style.png\n",
      "Saving to: mnt/images/3_no_watermark/wassily kandinsky style squares in shades of beige orange and brown.png\n",
      "Saving to: mnt/images/3_no_watermark/wassily kandinsky style squares, monochromatic.png\n",
      "Saving to: mnt/images/3_no_watermark/wassily kandinsky style squares, shades of beige.png\n",
      "Saving to: mnt/images/3_no_watermark/yellow lisbon tram, oil on canvas, monet style.png\n",
      "Saving to: mnt/images/3_no_watermark/zoomed-in female face, blue hair, roy lichtenstein style.png\n"
     ]
    }
   ],
   "source": [
    "for img_path in image_paths:\n",
    "    img = Image.open(img_path)\n",
    "    w, h = img.size\n",
    "\n",
    "    i = 1\n",
    "    while img.getpixel((w-1, h-i)) == WATER_MARK_COLOUR:\n",
    "        i += 1\n",
    "\n",
    "\n",
    "    wm_height = i-1\n",
    "    wm_length = wm_height*5\n",
    "    box = (w-wm_length, h-wm_height, w, h)\n",
    "\n",
    "    wm = img.crop(box)\n",
    "\n",
    "    r, g, b, a = wm.split()\n",
    "    a = a.point(lambda i: 0) #nullify alfa channel\n",
    "    wm = Image.merge(\"RGBA\", (r, g, b, a))\n",
    "\n",
    "    img.paste(wm, box=box)\n",
    "    target_path = f\"{os.getenv('NO_WM_IMG_MNT')}/{get_file_name(img_path)}\"\n",
    "    print(f\"Saving to: {target_path}\")\n",
    "    img.save(target_path)"
   ]
  },
  {
   "cell_type": "code",
   "execution_count": null,
   "metadata": {},
   "outputs": [],
   "source": []
  }
 ],
 "metadata": {
  "kernelspec": {
   "display_name": "Python 3.10.8 ('.venv': venv)",
   "language": "python",
   "name": "python3"
  },
  "language_info": {
   "codemirror_mode": {
    "name": "ipython",
    "version": 3
   },
   "file_extension": ".py",
   "mimetype": "text/x-python",
   "name": "python",
   "nbconvert_exporter": "python",
   "pygments_lexer": "ipython3",
   "version": "3.10.8"
  },
  "orig_nbformat": 4,
  "vscode": {
   "interpreter": {
    "hash": "3ba374d027a60c085b9db699b13757e9d53892bf135fc7c39a7b6b279c902790"
   }
  }
 },
 "nbformat": 4,
 "nbformat_minor": 2
}
