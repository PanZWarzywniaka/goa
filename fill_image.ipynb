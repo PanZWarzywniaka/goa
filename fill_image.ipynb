{
 "cells": [
  {
   "cell_type": "code",
   "execution_count": null,
   "metadata": {},
   "outputs": [],
   "source": [
    "import os, sys\n",
    "from PIL import Image\n",
    "import glob\n",
    "import cv2 as cv\n",
    "from dotenv import load_dotenv\n",
    "import numpy as np\n",
    "from matplotlib import pyplot as plt\n",
    "import openai\n",
    "\n",
    "load_dotenv()"
   ]
  },
  {
   "cell_type": "code",
   "execution_count": null,
   "metadata": {},
   "outputs": [],
   "source": []
  }
 ],
 "metadata": {
  "kernelspec": {
   "display_name": "Python 3.10.8 ('.venv': venv)",
   "language": "python",
   "name": "python3"
  },
  "language_info": {
   "name": "python",
   "version": "3.10.8"
  },
  "orig_nbformat": 4,
  "vscode": {
   "interpreter": {
    "hash": "3ba374d027a60c085b9db699b13757e9d53892bf135fc7c39a7b6b279c902790"
   }
  }
 },
 "nbformat": 4,
 "nbformat_minor": 2
}
