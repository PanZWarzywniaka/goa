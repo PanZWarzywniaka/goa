{
 "cells": [
  {
   "cell_type": "code",
   "execution_count": 83,
   "metadata": {},
   "outputs": [
    {
     "data": {
      "text/plain": [
       "True"
      ]
     },
     "execution_count": 83,
     "metadata": {},
     "output_type": "execute_result"
    }
   ],
   "source": [
    "import os, sys\n",
    "from PIL import Image\n",
    "import glob\n",
    "import cv2 as cv\n",
    "from dotenv import load_dotenv\n",
    "import numpy as np\n",
    "from matplotlib import pyplot as plt\n",
    "import openai\n",
    "import logging as log\n",
    "import time\n",
    "from io import BytesIO\n",
    "from goa import save_images\n",
    "import json\n",
    "import base64\n",
    "\n",
    "load_dotenv()"
   ]
  },
  {
   "cell_type": "code",
   "execution_count": 84,
   "metadata": {},
   "outputs": [],
   "source": [
    "def get_file_name(path: str):\n",
    "    return path.split(\"/\")[-1]"
   ]
  },
  {
   "cell_type": "code",
   "execution_count": 85,
   "metadata": {},
   "outputs": [],
   "source": [
    "def fill_image(image, text_prompt, n=4, format=\"b64_json\"):\n",
    "\n",
    "    try:\n",
    "        log.info(\"Generating images...\")\n",
    "        start_t = time.perf_counter()\n",
    "\n",
    "        response = openai.Image.create_edit(\n",
    "            image=image,\n",
    "            prompt=text_prompt,\n",
    "            n=n,\n",
    "            size=\"1024x1024\",\n",
    "            response_format=format,\n",
    "        )\n",
    "\n",
    "        duration = time.perf_counter() - start_t\n",
    "        log.info(f\"Generating images took {duration:.2f}s\")\n",
    "\n",
    "        return response, \"Images generated successfully!\"\n",
    "\n",
    "    except openai.error.OpenAIError as e:\n",
    "        log.info(e.http_status)\n",
    "        log.info(e.error)\n",
    "        log.info(e)\n",
    "        return None, str(e)"
   ]
  },
  {
   "cell_type": "code",
   "execution_count": 86,
   "metadata": {},
   "outputs": [],
   "source": [
    "def get_image(response):\n",
    "    image_data = response['data'][0][\"b64_json\"]\n",
    "\n",
    "    image = Image.open(BytesIO(base64.b64decode(image_data)))\n",
    "    return image"
   ]
  },
  {
   "cell_type": "code",
   "execution_count": 87,
   "metadata": {},
   "outputs": [],
   "source": [
    "def fill_watermarks():\n",
    "    to_fill = glob.glob(f\"{os.getenv('NO_WM_IMG_MNT')}/*png\")\n",
    "    for img_path in to_fill:\n",
    "\n",
    "        print(f\"Starting with {img_path}\")\n",
    "        # Read the image file from disk and resize it\n",
    "        img = Image.open(img_path)\n",
    "        w, h = img.size\n",
    "        box = (w-1024, h-1024, w, h)\n",
    "        crop = img.crop(box)\n",
    "\n",
    "        # Convert the image to a BytesIO object\n",
    "        byte_stream = BytesIO()\n",
    "        crop.save(byte_stream, format='PNG')\n",
    "        byte_array = byte_stream.getvalue()\n",
    "        prompt = get_file_name(img_path)\n",
    "        r, msg = fill_image(byte_array, prompt, n=1,)\n",
    "        filling = get_image(r)\n",
    "        img.paste(filling, box=box)\n",
    "\n",
    "        target_path = f\"{os.getenv('TO_UPSCALE_MNT')}/{get_file_name(img_path)}\"\n",
    "        print(f\"Saving to: {target_path}\")\n",
    "        img.save(target_path)"
   ]
  },
  {
   "cell_type": "code",
   "execution_count": 88,
   "metadata": {},
   "outputs": [
    {
     "name": "stdout",
     "output_type": "stream",
     "text": [
      "Starting with mnt/images/3_no_watermark/a modernist poster showing a greek vase showing a pregnant woman playing with a faun.png\n",
      "Type of response <class 'openai.openai_object.OpenAIObject'>\n",
      "Saving to: mnt/images/4_to_upscale/a modernist poster showing a greek vase showing a pregnant woman playing with a faun.png\n",
      "Starting with mnt/images/3_no_watermark/a modest poster of abstract floris shapes. use the style of medieval art. use soft colours.png\n",
      "Type of response <class 'openai.openai_object.OpenAIObject'>\n",
      "Saving to: mnt/images/4_to_upscale/a modest poster of abstract floris shapes. use the style of medieval art. use soft colours.png\n",
      "Starting with mnt/images/3_no_watermark/a poster of biological abstract shapes. mix the styles of Stanislaw Wyspiański and  USSR.png\n",
      "Type of response <class 'openai.openai_object.OpenAIObject'>\n",
      "Saving to: mnt/images/4_to_upscale/a poster of biological abstract shapes. mix the styles of Stanislaw Wyspiański and  USSR.png\n",
      "Starting with mnt/images/3_no_watermark/a strip-shaped florist shapes. abstract-modern style. japanseese colours.png\n",
      "Type of response <class 'openai.openai_object.OpenAIObject'>\n",
      "Saving to: mnt/images/4_to_upscale/a strip-shaped florist shapes. abstract-modern style. japanseese colours.png\n",
      "Starting with mnt/images/3_no_watermark/balet dancer, Gustav klimt style.png\n",
      "Type of response <class 'openai.openai_object.OpenAIObject'>\n",
      "Saving to: mnt/images/4_to_upscale/balet dancer, Gustav klimt style.png\n",
      "Starting with mnt/images/3_no_watermark/black and white squares, jackson pollock style.png\n",
      "Type of response <class 'openai.openai_object.OpenAIObject'>\n",
      "Saving to: mnt/images/4_to_upscale/black and white squares, jackson pollock style.png\n",
      "Starting with mnt/images/3_no_watermark/geometric shapes, pink orange and white, boho, wassily kandisky style.png\n",
      "Type of response <class 'openai.openai_object.OpenAIObject'>\n",
      "Saving to: mnt/images/4_to_upscale/geometric shapes, pink orange and white, boho, wassily kandisky style.png\n",
      "Starting with mnt/images/3_no_watermark/king henry VIII but his head is a cat, van eyck style.png\n",
      "Type of response <class 'openai.openai_object.OpenAIObject'>\n",
      "Saving to: mnt/images/4_to_upscale/king henry VIII but his head is a cat, van eyck style.png\n",
      "Starting with mnt/images/3_no_watermark/minimalist art deco poster based on white one-line bauhaus architecture motives, emerald green background.png\n",
      "Type of response <class 'openai.openai_object.OpenAIObject'>\n",
      "Saving to: mnt/images/4_to_upscale/minimalist art deco poster based on white one-line bauhaus architecture motives, emerald green background.png\n",
      "Starting with mnt/images/3_no_watermark/modernist sculpture style poster of pregnant Niobe.png\n",
      "Type of response <class 'openai.openai_object.OpenAIObject'>\n",
      "Saving to: mnt/images/4_to_upscale/modernist sculpture style poster of pregnant Niobe.png\n",
      "Starting with mnt/images/3_no_watermark/mountain summit, 2d simplified, in shades of orange.png\n",
      "Type of response <class 'openai.openai_object.OpenAIObject'>\n",
      "Saving to: mnt/images/4_to_upscale/mountain summit, 2d simplified, in shades of orange.png\n",
      "Starting with mnt/images/3_no_watermark/new york skyline in 1990, manet style.png\n",
      "Type of response <class 'openai.openai_object.OpenAIObject'>\n",
      "Saving to: mnt/images/4_to_upscale/new york skyline in 1990, manet style.png\n",
      "Starting with mnt/images/3_no_watermark/nighttime rainy times square, oil on canvas, monet style.png\n",
      "Type of response <class 'openai.openai_object.OpenAIObject'>\n",
      "Saving to: mnt/images/4_to_upscale/nighttime rainy times square, oil on canvas, monet style.png\n",
      "Starting with mnt/images/3_no_watermark/wassily kandinsky style squares in shades of beige orange and brown.png\n",
      "Type of response <class 'openai.openai_object.OpenAIObject'>\n",
      "Saving to: mnt/images/4_to_upscale/wassily kandinsky style squares in shades of beige orange and brown.png\n",
      "Starting with mnt/images/3_no_watermark/wassily kandinsky style squares, monochromatic.png\n",
      "Type of response <class 'openai.openai_object.OpenAIObject'>\n",
      "Saving to: mnt/images/4_to_upscale/wassily kandinsky style squares, monochromatic.png\n",
      "Starting with mnt/images/3_no_watermark/wassily kandinsky style squares, shades of beige.png\n",
      "Type of response <class 'openai.openai_object.OpenAIObject'>\n",
      "Saving to: mnt/images/4_to_upscale/wassily kandinsky style squares, shades of beige.png\n",
      "Starting with mnt/images/3_no_watermark/yellow lisbon tram, oil on canvas, monet style.png\n",
      "Type of response <class 'openai.openai_object.OpenAIObject'>\n",
      "Saving to: mnt/images/4_to_upscale/yellow lisbon tram, oil on canvas, monet style.png\n",
      "Starting with mnt/images/3_no_watermark/zoomed-in female face, blue hair, roy lichtenstein style.png\n",
      "Type of response <class 'openai.openai_object.OpenAIObject'>\n",
      "Saving to: mnt/images/4_to_upscale/zoomed-in female face, blue hair, roy lichtenstein style.png\n"
     ]
    }
   ],
   "source": [
    "fill_watermarks()"
   ]
  }
 ],
 "metadata": {
  "kernelspec": {
   "display_name": "Python 3.10.8 ('.venv': venv)",
   "language": "python",
   "name": "python3"
  },
  "language_info": {
   "codemirror_mode": {
    "name": "ipython",
    "version": 3
   },
   "file_extension": ".py",
   "mimetype": "text/x-python",
   "name": "python",
   "nbconvert_exporter": "python",
   "pygments_lexer": "ipython3",
   "version": "3.10.8"
  },
  "orig_nbformat": 4,
  "vscode": {
   "interpreter": {
    "hash": "3ba374d027a60c085b9db699b13757e9d53892bf135fc7c39a7b6b279c902790"
   }
  }
 },
 "nbformat": 4,
 "nbformat_minor": 2
}
