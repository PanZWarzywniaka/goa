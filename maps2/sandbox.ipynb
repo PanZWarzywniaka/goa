{
 "cells": [
  {
   "attachments": {},
   "cell_type": "markdown",
   "metadata": {},
   "source": [
    "## Import"
   ]
  },
  {
   "cell_type": "code",
   "execution_count": 285,
   "metadata": {},
   "outputs": [],
   "source": [
    "import drawsvg as dw"
   ]
  },
  {
   "attachments": {},
   "cell_type": "markdown",
   "metadata": {},
   "source": [
    "## Constants"
   ]
  },
  {
   "cell_type": "code",
   "execution_count": 286,
   "metadata": {},
   "outputs": [],
   "source": [
    "#A4 px\n",
    "WIDTH = 793.701 \n",
    "HEIGHT = 1122.520\n",
    "\n",
    "TEMPLATE_BG_FILL = '#dde100'\n",
    "\n",
    "TEMPLATE_FRAME = {\n",
    "    'fill': '#eef5c0',\n",
    "    'offset': 34.016,\n",
    "    'width': 3.780,\n",
    "}\n",
    "\n",
    "BOTTOM_AREA_HEIGHT = 100\n",
    "\n",
    "MAIN_TEXT = {\n",
    "    'text': \"DITROIT\",\n",
    "    'font_size': 36,\n",
    "    'font_family': 'to be decided',\n",
    "}\n",
    "\n",
    "SUB_TEXT = {\n",
    "    'text': \"Murica\",\n",
    "    'font_size': 24,\n",
    "    'font_family': 'to be decided',\n",
    "    'y_offset': 50,\n",
    "}\n"
   ]
  },
  {
   "cell_type": "code",
   "execution_count": 287,
   "metadata": {},
   "outputs": [],
   "source": [
    "\n",
    "\n",
    "map_space = dw.Mask()\n",
    "map_space.append(\n",
    "    dw.Rectangle(0, 0, WIDTH, HEIGHT, fill='white'))\n",
    "\n",
    "map_space_offset = TEMPLATE_FRAME['offset'] + TEMPLATE_FRAME['width']\n",
    "map_space_width = WIDTH-(2*map_space_offset)\n",
    "map_space_height = HEIGHT-(2*map_space_offset)-BOTTOM_AREA_HEIGHT\n",
    "\n",
    "map_space.append(\n",
    "    dw.Rectangle(map_space_offset, map_space_offset, map_space_width, map_space_height, fill='black'))\n",
    "\n",
    "\n",
    "template = dw.Group(id='template', mask=map_space)"
   ]
  },
  {
   "cell_type": "code",
   "execution_count": 288,
   "metadata": {},
   "outputs": [],
   "source": [
    "\n",
    "\n",
    "\n",
    "bg = dw.Rectangle(0, 0, WIDTH, HEIGHT, id='bg', fill=TEMPLATE_BG_FILL)\n",
    "template.append(bg)\n",
    "\n",
    "tf = dw.Rectangle(TEMPLATE_FRAME['offset'], TEMPLATE_FRAME['offset'], WIDTH-(2*TEMPLATE_FRAME['offset']), HEIGHT-(2*TEMPLATE_FRAME['offset'])-BOTTOM_AREA_HEIGHT, id='frame', fill=TEMPLATE_FRAME['fill'])\n",
    "template.append(tf)"
   ]
  },
  {
   "cell_type": "code",
   "execution_count": 289,
   "metadata": {},
   "outputs": [],
   "source": [
    "text_area = dw.Group(id='text_area')\n",
    "\n",
    "text_x = map_space_offset\n",
    "text_y = map_space_height+ 2.2*map_space_offset\n",
    "\n",
    "text_area.append(dw.Text(MAIN_TEXT['text'], font_size=MAIN_TEXT['font_size'], x=text_x, y=text_y, id='main_text'))\n",
    "\n",
    "text_y += SUB_TEXT['y_offset']\n",
    "text_area.append(dw.Text(SUB_TEXT['text'], font_size=SUB_TEXT['font_size'], x=text_x, y=text_y, id='sub_text'))\n",
    "\n",
    "template.append(text_area)"
   ]
  },
  {
   "cell_type": "code",
   "execution_count": 290,
   "metadata": {},
   "outputs": [],
   "source": [
    "map_content = dw.Group(id='map')\n",
    "map_content.append(dw.Text('Map place holder', font_size=36, x=300, y=400, id='place_holder'))"
   ]
  },
  {
   "cell_type": "code",
   "execution_count": 291,
   "metadata": {},
   "outputs": [],
   "source": [
    "d = dw.Drawing(WIDTH, HEIGHT, id_prefix='poster')\n",
    "\n",
    "d.append(map_content)\n",
    "d.append(template)\n",
    "d.save_svg('poster.svg')"
   ]
  },
  {
   "cell_type": "code",
   "execution_count": 292,
   "metadata": {},
   "outputs": [],
   "source": [
    "d.save_png('poster.png')"
   ]
  },
  {
   "cell_type": "code",
   "execution_count": 293,
   "metadata": {},
   "outputs": [
    {
     "data": {
      "image/svg+xml": [
       "<?xml version=\"1.0\" encoding=\"UTF-8\"?>\n",
       "<svg xmlns=\"http://www.w3.org/2000/svg\" xmlns:xlink=\"http://www.w3.org/1999/xlink\"\n",
       "     width=\"793.701\" height=\"1122.52\" viewBox=\"0 0 793.701 1122.52\">\n",
       "<defs>\n",
       "<mask id=\"TP4NdPLi0\">\n",
       "<rect x=\"0\" y=\"0\" width=\"793.701\" height=\"1122.52\" fill=\"white\" />\n",
       "<rect x=\"37.796\" y=\"37.796\" width=\"718.109\" height=\"946.9279999999999\" fill=\"black\" />\n",
       "</mask>\n",
       "</defs>\n",
       "<g id=\"map\">\n",
       "<text x=\"300\" y=\"400\" font-size=\"36\">Map place holder</text>\n",
       "</g>\n",
       "<g id=\"template\" mask=\"url(#TP4NdPLi0)\">\n",
       "<rect x=\"0\" y=\"0\" width=\"793.701\" height=\"1122.52\" id=\"bg\" fill=\"#dde100\" />\n",
       "<rect x=\"34.016\" y=\"34.016\" width=\"725.669\" height=\"954.488\" id=\"frame\" fill=\"#eef5c0\" />\n",
       "<g id=\"text_area\">\n",
       "<text x=\"37.796\" y=\"1030.0792\" font-size=\"36\">DITROIT</text>\n",
       "<text x=\"37.796\" y=\"1080.0792\" font-size=\"24\">Murica</text>\n",
       "</g>\n",
       "</g>\n",
       "</svg>"
      ],
      "text/plain": [
       "<drawsvg.drawing.Drawing at 0x7f73172ca390>"
      ]
     },
     "execution_count": 293,
     "metadata": {},
     "output_type": "execute_result"
    }
   ],
   "source": [
    "d"
   ]
  },
  {
   "cell_type": "code",
   "execution_count": null,
   "metadata": {},
   "outputs": [],
   "source": []
  }
 ],
 "metadata": {
  "kernelspec": {
   "display_name": ".venv",
   "language": "python",
   "name": "python3"
  },
  "language_info": {
   "codemirror_mode": {
    "name": "ipython",
    "version": 3
   },
   "file_extension": ".py",
   "mimetype": "text/x-python",
   "name": "python",
   "nbconvert_exporter": "python",
   "pygments_lexer": "ipython3",
   "version": "3.11.3"
  },
  "orig_nbformat": 4
 },
 "nbformat": 4,
 "nbformat_minor": 2
}
